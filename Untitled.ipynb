{
 "cells": [
  {
   "cell_type": "code",
   "execution_count": null,
   "id": "16b43bbd",
   "metadata": {},
   "outputs": [],
   "source": [
    "class Graph:\n",
    "    def _init_(self, graph, heuristicNodeList, startNode):\n",
    "        \n",
    "        self.graph = graph\n",
    "        self.H=heuristicNodeList\n",
    "        self.start=startNode\n",
    "        self.parent={}\n",
    "        self.status={}\n",
    "        self.solutionGraph={}\n",
    "        \n",
    " def applyAOStar(self):\n",
    "    self.aoStar(self.start, False)\n",
    " def getNeighbors(self, v):\n",
    "    return self.graph.get(v,'')\n",
    "\n",
    " def getStatus(self,v):\n",
    "    return self.status.get(v,0)\n",
    "\n",
    " def setStatus(self,v, val):\n",
    "    self.status[v]=val\n",
    " \n",
    " def getHeuristicNodeValue(self, n):\n",
    "    return self.H.get(n,0)\n",
    " def setHeuristicNodeValue(self, n,value):\n",
    "    self.H[n]=value \n",
    "    \n",
    "def printSolutionn(self): \n",
    "    print(\"FOR GRAPH SOLUTION, TRAVERSE THE GRAPH FROM THE START NODE\",self.start)\n",
    "    \n",
    "    \n",
    "\n",
    "    \n",
    "        \n",
    " def computeMiniumCostChildNodes(self, v):\n",
    "     miniumCost=0\n",
    "     costToChildNodeListDict={}\n",
    "     costToChildNodeListDict[miniumCost]=[]\n",
    "    flag=\n",
    "    "
   ]
  }
 ],
 "metadata": {
  "kernelspec": {
   "display_name": "Python 3 (ipykernel)",
   "language": "python",
   "name": "python3"
  },
  "language_info": {
   "codemirror_mode": {
    "name": "ipython",
    "version": 3
   },
   "file_extension": ".py",
   "mimetype": "text/x-python",
   "name": "python",
   "nbconvert_exporter": "python",
   "pygments_lexer": "ipython3",
   "version": "3.9.7"
  }
 },
 "nbformat": 4,
 "nbformat_minor": 5
}
